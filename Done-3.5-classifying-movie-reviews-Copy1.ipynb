{
 "cells": [
  {
   "cell_type": "code",
   "execution_count": 1,
   "metadata": {},
   "outputs": [
    {
     "name": "stderr",
     "output_type": "stream",
     "text": [
      "Using TensorFlow backend.\n"
     ]
    },
    {
     "data": {
      "text/plain": [
       "'2.0.8'"
      ]
     },
     "execution_count": 1,
     "metadata": {},
     "output_type": "execute_result"
    }
   ],
   "source": [
    "import keras\n",
    "keras.__version__"
   ]
  },
  {
   "cell_type": "markdown",
   "metadata": {},
   "source": [
    "# Classifying movie reviews: a binary classification example\n",
    "\n",
    "This notebook contains the code samples found in Chapter 3, Section 5 of [Deep Learning with Python](https://www.manning.com/books/deep-learning-with-python?a_aid=keras&a_bid=76564dff). Note that the original text features far more content, in particular further explanations and figures: in this notebook, you will only find source code and related comments.\n",
    "\n",
    "----\n",
    "\n",
    "\n",
    "Two-class classification, or binary classification, may be the most widely applied kind of machine learning problem. In this example, we \n",
    "will learn to classify movie reviews into \"positive\" reviews and \"negative\" reviews, just based on the text content of the reviews."
   ]
  },
  {
   "cell_type": "markdown",
   "metadata": {},
   "source": [
    "## The IMDB dataset\n",
    "\n",
    "\n",
    "We'll be working with \"IMDB dataset\", a set of 50,000 highly-polarized reviews from the Internet Movie Database. They are split into 25,000 \n",
    "reviews for training and 25,000 reviews for testing, each set consisting in 50% negative and 50% positive reviews.\n",
    "\n",
    "Why do we have these two separate training and test sets? You should never test a machine learning model on the same data that you used to \n",
    "train it! Just because a model performs well on its training data doesn't mean that it will perform well on data it has never seen, and \n",
    "what you actually care about is your model's performance on new data (since you already know the labels of your training data -- obviously \n",
    "you don't need your model to predict those). For instance, it is possible that your model could end up merely _memorizing_ a mapping between \n",
    "your training samples and their targets -- which would be completely useless for the task of predicting targets for data never seen before. \n",
    "We will go over this point in much more detail in the next chapter.\n",
    "\n",
    "Just like the MNIST dataset, the IMDB dataset comes packaged with Keras. It has already been preprocessed: the reviews (sequences of words) \n",
    "have been turned into sequences of integers, where each integer stands for a specific word in a dictionary.\n",
    "\n",
    "The following code will load the dataset (when you run it for the first time, about 80MB of data will be downloaded to your machine):"
   ]
  },
  {
   "cell_type": "code",
   "execution_count": 2,
   "metadata": {},
   "outputs": [
    {
     "name": "stdout",
     "output_type": "stream",
     "text": [
      "Downloading data from https://s3.amazonaws.com/text-datasets/imdb.npz\n",
      "17211392/17464789 [============================>.] - ETA: 0s"
     ]
    }
   ],
   "source": [
    "from keras.datasets import imdb\n",
    "\n",
    "(train_data, train_labels), (test_data, test_labels) = imdb.load_data(num_words=10000)"
   ]
  },
  {
   "cell_type": "markdown",
   "metadata": {},
   "source": [
    "\n",
    "The argument `num_words=10000` means that we will only keep the top 10,000 most frequently occurring words in the training data. Rare words \n",
    "will be discarded. This allows us to work with vector data of manageable size.\n",
    "\n",
    "The variables `train_data` and `test_data` are lists of reviews, each review being a list of word indices (encoding a sequence of words). \n",
    "`train_labels` and `test_labels` are lists of 0s and 1s, where 0 stands for \"negative\" and 1 stands for \"positive\":"
   ]
  },
  {
   "cell_type": "code",
   "execution_count": 3,
   "metadata": {},
   "outputs": [
    {
     "data": {
      "text/plain": [
       "(25000,)"
      ]
     },
     "execution_count": 3,
     "metadata": {},
     "output_type": "execute_result"
    }
   ],
   "source": [
    "train_data.shape"
   ]
  },
  {
   "cell_type": "code",
   "execution_count": 7,
   "metadata": {},
   "outputs": [
    {
     "name": "stdout",
     "output_type": "stream",
     "text": [
      "[1, 14, 22, 16, 43, 530, 973, 1622, 1385, 65, 458, 4468, 66, 3941, 4, 173, 36, 256, 5, 25, 100, 43, 838, 112, 50, 670, 2, 9, 35, 480, 284, 5, 150, 4, 172, 112, 167, 2, 336, 385, 39, 4, 172, 4536, 1111, 17, 546, 38, 13, 447, 4, 192, 50, 16, 6, 147, 2025, 19, 14, 22, 4, 1920, 4613, 469, 4, 22, 71, 87, 12, 16, 43, 530, 38, 76, 15, 13, 1247, 4, 22, 17, 515, 17, 12, 16, 626, 18, 2, 5, 62, 386, 12, 8, 316, 8, 106, 5, 4, 2223, 5244, 16, 480, 66, 3785, 33, 4, 130, 12, 16, 38, 619, 5, 25, 124, 51, 36, 135, 48, 25, 1415, 33, 6, 22, 12, 215, 28, 77, 52, 5, 14, 407, 16, 82, 2, 8, 4, 107, 117, 5952, 15, 256, 4, 2, 7, 3766, 5, 723, 36, 71, 43, 530, 476, 26, 400, 317, 46, 7, 4, 2, 1029, 13, 104, 88, 4, 381, 15, 297, 98, 32, 2071, 56, 26, 141, 6, 194, 7486, 18, 4, 226, 22, 21, 134, 476, 26, 480, 5, 144, 30, 5535, 18, 51, 36, 28, 224, 92, 25, 104, 4, 226, 65, 16, 38, 1334, 88, 12, 16, 283, 5, 16, 4472, 113, 103, 32, 15, 16, 5345, 19, 178, 32]\n"
     ]
    }
   ],
   "source": [
    "print(train_data[0])"
   ]
  },
  {
   "cell_type": "code",
   "execution_count": 10,
   "metadata": {},
   "outputs": [
    {
     "name": "stdout",
     "output_type": "stream",
     "text": [
      "(25000,) 0\n"
     ]
    }
   ],
   "source": [
    "print(train_labels.shape,train_labels[1])"
   ]
  },
  {
   "cell_type": "markdown",
   "metadata": {},
   "source": [
    "Since we restricted ourselves to the top 10,000 most frequent words, no word index will exceed 10,000:"
   ]
  },
  {
   "cell_type": "code",
   "execution_count": 12,
   "metadata": {},
   "outputs": [
    {
     "data": {
      "text/plain": [
       "(25000,)"
      ]
     },
     "execution_count": 12,
     "metadata": {},
     "output_type": "execute_result"
    }
   ],
   "source": [
    "train_data.shape"
   ]
  },
  {
   "cell_type": "code",
   "execution_count": 79,
   "metadata": {
    "collapsed": true
   },
   "outputs": [],
   "source": [
    "import numpy as np"
   ]
  },
  {
   "cell_type": "code",
   "execution_count": 92,
   "metadata": {},
   "outputs": [
    {
     "data": {
      "text/plain": [
       "769"
      ]
     },
     "execution_count": 92,
     "metadata": {},
     "output_type": "execute_result"
    }
   ],
   "source": [
    "np.argmax([max(sequence) for sequence in train_data])"
   ]
  },
  {
   "cell_type": "code",
   "execution_count": 104,
   "metadata": {},
   "outputs": [
    {
     "data": {
      "text/plain": [
       "[9890]"
      ]
     },
     "execution_count": 104,
     "metadata": {},
     "output_type": "execute_result"
    }
   ],
   "source": [
    "[max(i) for i in train_data if len(i)>2000]"
   ]
  },
  {
   "cell_type": "markdown",
   "metadata": {},
   "source": [
    "For kicks, here's how you can quickly decode one of these reviews back to English words:"
   ]
  },
  {
   "cell_type": "code",
   "execution_count": 13,
   "metadata": {},
   "outputs": [
    {
     "name": "stdout",
     "output_type": "stream",
     "text": [
      "Downloading data from https://s3.amazonaws.com/text-datasets/imdb_word_index.json\n",
      "1515520/1641221 [==========================>...] - ETA: 0s"
     ]
    }
   ],
   "source": [
    "# word_index is a dictionary mapping words to an integer index\n",
    "word_index = imdb.get_word_index()\n",
    "# We reverse it, mapping integer indices to words\n",
    "reverse_word_index = dict([(value, key) for (key, value) in word_index.items()])\n",
    "# We decode the review; note that our indices were offset by 3\n",
    "# because 0, 1 and 2 are reserved indices for \"padding\", \"start of sequence\", and \"unknown\".\n",
    "decoded_review = ' '.join([reverse_word_index.get(i - 3, '?') for i in train_data[0]])"
   ]
  },
  {
   "cell_type": "code",
   "execution_count": 36,
   "metadata": {},
   "outputs": [
    {
     "data": {
      "text/plain": [
       "[('of', 4),\n",
       " ('is', 6),\n",
       " ('the', 1),\n",
       " ('it', 9),\n",
       " ('to', 5),\n",
       " ('and', 2),\n",
       " ('br', 7),\n",
       " ('a', 3),\n",
       " ('in', 8)]"
      ]
     },
     "execution_count": 36,
     "metadata": {},
     "output_type": "execute_result"
    }
   ],
   "source": [
    "[(x,y) for (x,y) in word_index.items() if y<10] "
   ]
  },
  {
   "cell_type": "code",
   "execution_count": 59,
   "metadata": {},
   "outputs": [
    {
     "data": {
      "text/plain": [
       "'the'"
      ]
     },
     "execution_count": 59,
     "metadata": {},
     "output_type": "execute_result"
    }
   ],
   "source": [
    "dict([(value, key) for (key, value) in word_index.items()]).get(1)"
   ]
  },
  {
   "cell_type": "code",
   "execution_count": 64,
   "metadata": {
    "collapsed": true
   },
   "outputs": [
    {
     "data": {
      "text/plain": [
       "[(71743, 'ballestra'),\n",
       " (74634, 'jebidia'),\n",
       " (16645, 'booby'),\n",
       " (67303, 'piggly'),\n",
       " (32737, 'residual'),\n",
       " (65391, 'increses'),\n",
       " (31509, 'humorist'),\n",
       " (55587, \"'kharis'\"),\n",
       " (56902, 'osiric'),\n",
       " (58625, 'stunden'),\n",
       " (82630, \"camelias'\"),\n",
       " (53264, 'konigin'),\n",
       " (54571, 'adultism'),\n",
       " (37783, 'antiheroes'),\n",
       " (71204, \"'adelaide'\"),\n",
       " (58584, 'scrivener'),\n",
       " (58760, 'filmed\\x97an'),\n",
       " (62584, \"convenience's\"),\n",
       " (66573, 'clyve'),\n",
       " (81283, \"mistake'\"),\n",
       " (85480, 'substories'),\n",
       " (11204, 'belonged'),\n",
       " (76054, 'texel'),\n",
       " (10144, 'realist'),\n",
       " (42837, \"'dudes'\"),\n",
       " (23171, 'barb'),\n",
       " (996, 'era'),\n",
       " (23426, 'mailman'),\n",
       " (33030, 'schiff'),\n",
       " (58019, 'dinghy'),\n",
       " (30325, 'demographics'),\n",
       " (67349, 'sulfate\\x85'),\n",
       " (76279, 'choy'),\n",
       " (80663, 'ffs'),\n",
       " (79339, 'handily'),\n",
       " (53097, 'totems'),\n",
       " (85965, 'borin'),\n",
       " (11812, 'shia'),\n",
       " (72840, 'spinsterdom'),\n",
       " (13743, 'coin'),\n",
       " (50923, 'president´s'),\n",
       " (12756, 'williamson'),\n",
       " (36595, 'upstream'),\n",
       " (72471, 'muscical'),\n",
       " (20911, 'rigg'),\n",
       " (10876, 'resembled'),\n",
       " (82410, 'kreuk'),\n",
       " (64271, 'massironi'),\n",
       " (19588, 'swoop'),\n",
       " (30897, 'attired'),\n",
       " (18629, \"aunt's\"),\n",
       " (63346, 'raiment'),\n",
       " (13007, 'fragmented'),\n",
       " (34454, 'fozzie'),\n",
       " (38525, \"devon's\"),\n",
       " (45625, 'canuck'),\n",
       " (82221, 'precipitated'),\n",
       " (56320, 'rancour'),\n",
       " (5649, 'employed'),\n",
       " (47161, \"'pulp\"),\n",
       " (24495, 'clift'),\n",
       " (63414, 'ascents'),\n",
       " (37970, 'willaim'),\n",
       " (30601, 'hebetude'),\n",
       " (25153, 'mikes'),\n",
       " (18911, 'prosaic'),\n",
       " (19886, 'biograph'),\n",
       " (46847, 'flammable'),\n",
       " (60465, 'gruelingly'),\n",
       " (47804, 'raunchily'),\n",
       " (75548, 'endearments'),\n",
       " (80368, 'unmet'),\n",
       " (62469, 'pixely'),\n",
       " (36324, 'chowder'),\n",
       " (13296, 'groin'),\n",
       " (36456, 'deviated'),\n",
       " (48525, 'szalinski'),\n",
       " (59813, 'cooperating'),\n",
       " (59727, 'paglia'),\n",
       " (70971, 'gonifs'),\n",
       " (32363, 'purveyors'),\n",
       " (24575, 'ogden'),\n",
       " (35496, 'exploitational'),\n",
       " (24764, 'valium'),\n",
       " (83403, 'delts'),\n",
       " (6862, 'remembers'),\n",
       " (28475, 'aip'),\n",
       " (28786, 'adheres'),\n",
       " (78622, 'dillute'),\n",
       " (67190, \"helmsman's\"),\n",
       " (30669, 'copes'),\n",
       " (53102, 'unhand'),\n",
       " (68983, \"statue's\"),\n",
       " (72313, 'sigel'),\n",
       " (12541, 'amnesia'),\n",
       " (35877, 'apocryphal'),\n",
       " (50768, 'crystin'),\n",
       " (52252, 'budah'),\n",
       " (35697, 'mcintosh'),\n",
       " (58197, 'eroticize'),\n",
       " (87434, 'chilcot'),\n",
       " (63007, 'plasticky'),\n",
       " (52504, 'borstein'),\n",
       " (61596, 'fission'),\n",
       " (8160, 'abomination'),\n",
       " (38797, 'speck'),\n",
       " (56144, \"'place\"),\n",
       " (45055, 'yorks'),\n",
       " (80856, 'glamorizing'),\n",
       " (47155, 'szabo'),\n",
       " (72322, 'strutters'),\n",
       " (276, 'maybe'),\n",
       " (34676, 'tran'),\n",
       " (72352, 'mjyoung'),\n",
       " (14024, 'honored'),\n",
       " (54783, \"sembello's\"),\n",
       " (63801, 'gruntled'),\n",
       " (71366, 'sensuousness'),\n",
       " (5009, 'pin'),\n",
       " (15259, \"ollie's\"),\n",
       " (22789, 'humorously'),\n",
       " (38674, 'causal'),\n",
       " (77043, 'coltish'),\n",
       " (72768, 'mockridge'),\n",
       " (45416, 'whizbang'),\n",
       " (22908, 'nuff'),\n",
       " (20677, 'baptists'),\n",
       " (71560, \"garofalo's\"),\n",
       " (27909, 'squashed'),\n",
       " (23611, 'sisto'),\n",
       " (38150, 'jotted'),\n",
       " (42981, 'joao'),\n",
       " (14263, 'massively'),\n",
       " (10949, 'drawback'),\n",
       " (33962, 'felton'),\n",
       " (58850, 'schwartzeneggar'),\n",
       " (68127, 'particualrly'),\n",
       " (55589, 'unvalidated'),\n",
       " (7528, 'observation'),\n",
       " (50953, 'huddling'),\n",
       " (18658, 'fussy'),\n",
       " (30205, 'topnotch'),\n",
       " (42703, \"scooby's\"),\n",
       " (53364, 'veinbreaker'),\n",
       " (37830, 'krisak'),\n",
       " (66566, \"feierstein's\"),\n",
       " (77330, 'hypermacho'),\n",
       " (30556, \"eustache's\"),\n",
       " (16503, 'advert'),\n",
       " (62988, 'chitchatting'),\n",
       " (58632, 'backlashes'),\n",
       " (34209, 'illogically'),\n",
       " (48120, 'defecating'),\n",
       " (22832, 'habitat'),\n",
       " (36831, 'campesinos'),\n",
       " (15553, 'leftist'),\n",
       " (42554, 'tercero'),\n",
       " (61897, 'cristiana'),\n",
       " (25754, 'trumpeter'),\n",
       " (33083, \"cukor's\"),\n",
       " (29862, 'expository'),\n",
       " (80979, 'medicos'),\n",
       " (71975, 'stockpile'),\n",
       " (55515, 'shandy'),\n",
       " (48744, 'slaving'),\n",
       " (79081, 'lá'),\n",
       " (59075, 'hessed'),\n",
       " (68769, 'arnald'),\n",
       " (11683, 'ww'),\n",
       " (31657, 'shied'),\n",
       " (63137, 'brainlessly'),\n",
       " (63258, 'garcíadiego'),\n",
       " (62594, 'opportunities\\x85'),\n",
       " (80603, 'caudillos'),\n",
       " (57209, 'hatreds'),\n",
       " (53227, \"'alligator\"),\n",
       " (70417, 'donger'),\n",
       " (30879, 'tout'),\n",
       " (42748, \"carnival's\"),\n",
       " (78177, 'indicitive'),\n",
       " (6707, 'demonstrated'),\n",
       " (40115, 'persist'),\n",
       " (34297, 'shucks'),\n",
       " (51682, \"sweet'n'sexy\"),\n",
       " (23660, 'beastly'),\n",
       " (20680, 'elicited'),\n",
       " (75157, 'sherritt'),\n",
       " (70483, 'tournier'),\n",
       " (52533, 'holman'),\n",
       " (71217, 'sträinä'),\n",
       " (7570, 'mannered'),\n",
       " (75732, 'galactica»'),\n",
       " (14072, 'cronies'),\n",
       " (88369, 'trophies'),\n",
       " (76449, \"dreaming'\"),\n",
       " (19935, \"gangster's\"),\n",
       " (32761, 'abrams'),\n",
       " (8538, 'baddie'),\n",
       " (69869, \"banker's\"),\n",
       " (1917, 'witty'),\n",
       " (17190, \"lester's\"),\n",
       " (11596, 'machinations'),\n",
       " (26358, 'venal'),\n",
       " (60829, 'lenthall'),\n",
       " (86898, \"'huge\"),\n",
       " (72458, 'meanial'),\n",
       " (43007, 'antagonizing'),\n",
       " (25387, 'homogenized'),\n",
       " (49640, 'katanas'),\n",
       " (15331, \"seagal's\"),\n",
       " (57500, 'okanagan'),\n",
       " (38777, 'gwyne'),\n",
       " (71491, 'tehzeeb'),\n",
       " (72487, 'frenhoffer'),\n",
       " (65470, 'bloodthirst'),\n",
       " (75760, 'rickmansworth'),\n",
       " (3183, 'letting'),\n",
       " (31880, 'vous'),\n",
       " (42649, 'erode'),\n",
       " (69100, 'depalmas'),\n",
       " (50118, 'ghraib'),\n",
       " (19022, 'pies'),\n",
       " (4813, 'domestic'),\n",
       " (63061, 'horrizon'),\n",
       " (19732, 'moralizing'),\n",
       " (23301, 'influencing'),\n",
       " (71912, \"tolkin's\"),\n",
       " (72095, 'gret'),\n",
       " (11697, 'engrossed'),\n",
       " (46684, \"'killer\"),\n",
       " (16361, 'tourneur'),\n",
       " (63415, 'badjatya'),\n",
       " (69916, 'unwrapped'),\n",
       " (10525, 'eroticism'),\n",
       " (45815, 'montoya'),\n",
       " (66504, 'mashall'),\n",
       " (18322, 'boxers'),\n",
       " (75544, 'lenghth'),\n",
       " (3825, 'concerning'),\n",
       " (37703, 'libraries'),\n",
       " (14727, 'hardware'),\n",
       " (2429, 'qualities'),\n",
       " (40259, 'caved'),\n",
       " (35101, 'twinned'),\n",
       " (62259, 'hackensack'),\n",
       " (9630, '33'),\n",
       " (26559, 'paco'),\n",
       " (3514, 'importantly'),\n",
       " (60012, 'zamaane'),\n",
       " (88457, '998'),\n",
       " (74305, 'cassandras'),\n",
       " (43750, 'thawing'),\n",
       " (38302, 'poolman'),\n",
       " (57514, 'whities'),\n",
       " (41270, 'saxophones'),\n",
       " (4542, 'babe'),\n",
       " (76753, 'dogmatically'),\n",
       " (43225, \"'gobble\"),\n",
       " (28052, 'buttocks'),\n",
       " (47224, 'necro'),\n",
       " (57095, 'kingship'),\n",
       " (35418, 'treacly'),\n",
       " (22868, 'caption'),\n",
       " (35908, 'meshing'),\n",
       " (53809, 'polemize'),\n",
       " (9709, 'prototype'),\n",
       " (35734, 'bayldon'),\n",
       " (58416, 'unbuckles'),\n",
       " (7208, 'cap'),\n",
       " (56208, \"sacrés'\"),\n",
       " (68129, 'straithrain'),\n",
       " (87440, 'swiftness'),\n",
       " (67638, 'shiranui'),\n",
       " (29887, 'kunis'),\n",
       " (759, 'bunch'),\n",
       " (60097, \"'fintail'\"),\n",
       " (32717, 'rigging'),\n",
       " (55522, 'fudds'),\n",
       " (34950, 'grumpiness'),\n",
       " (73578, 'morningstar'),\n",
       " (33633, 'cyclical'),\n",
       " (41518, 'benfer'),\n",
       " (82183, 'loudhailer'),\n",
       " (71077, 'alives'),\n",
       " (75750, 'galatea'),\n",
       " (83519, 'troubleshooter'),\n",
       " (32937, 'strictest'),\n",
       " (41522, 'qaida'),\n",
       " (50271, 'labia'),\n",
       " (39554, 'peas'),\n",
       " (73945, 'boooo'),\n",
       " (61645, 'ama'),\n",
       " (85127, 'albert\\x97someone'),\n",
       " (70496, \"'realists'\"),\n",
       " (17344, 'meddling'),\n",
       " (3366, 'st'),\n",
       " (50617, 'hanzô'),\n",
       " (64837, \"'care\"),\n",
       " (10058, 'transform'),\n",
       " (44832, \"tale's\"),\n",
       " (19284, 'glitzy'),\n",
       " (47918, \"which's\"),\n",
       " (7446, 'october'),\n",
       " (11897, 'trainer'),\n",
       " (19539, 'muck'),\n",
       " (82966, 'phillipa'),\n",
       " (74180, 'cuzak'),\n",
       " (81336, 'mybluray'),\n",
       " (25922, 'governed'),\n",
       " (46600, 'pulverized'),\n",
       " (52531, \"hetfield's\"),\n",
       " (11513, 'literate'),\n",
       " (9917, 'budgeted'),\n",
       " (77390, 'blitzkriegs'),\n",
       " (44183, 'rations'),\n",
       " (37335, \"version's\"),\n",
       " (35412, 'broklynese'),\n",
       " (13809, 'depp'),\n",
       " (21701, 'reccomend'),\n",
       " (24247, 'blazer'),\n",
       " (53983, \"titanic's'\"),\n",
       " (72036, 'publicise'),\n",
       " (29212, 'dumbs'),\n",
       " (1827, 'community'),\n",
       " (4671, 'survived'),\n",
       " (10655, 'biological'),\n",
       " (2633, 'jon'),\n",
       " (22725, 'trolls'),\n",
       " (4384, 'passionate'),\n",
       " (87916, 'assinged'),\n",
       " (39934, 'stratham'),\n",
       " (66878, 'laupta'),\n",
       " (64418, 'andcompelling'),\n",
       " (41402, 'superflous'),\n",
       " (3867, 'narrator'),\n",
       " (31305, 'daggett'),\n",
       " (32165, 'berserker'),\n",
       " (55659, 'benatatos'),\n",
       " (47994, \"'hungry\"),\n",
       " (38818, 'washroom'),\n",
       " (77883, 'zfl'),\n",
       " (411, 'dialogue'),\n",
       " (59136, \"n't\"),\n",
       " (82055, 'supposer'),\n",
       " (30699, 'zimbabwe'),\n",
       " (36579, 'radiator'),\n",
       " (48424, 'resplendent'),\n",
       " (30547, 'procession'),\n",
       " (49116, 'interlocking'),\n",
       " (24126, 'befriending'),\n",
       " (87101, 'hailstorm'),\n",
       " (8647, 'laced'),\n",
       " (22283, 'langella'),\n",
       " (37348, 'molest'),\n",
       " (76904, 'overrunning'),\n",
       " (56390, 'washingtonians'),\n",
       " (6916, 'fluid'),\n",
       " (63826, 'tomelty'),\n",
       " (62290, \"bersen's\"),\n",
       " (43791, 'oval'),\n",
       " (80201, 'leashed'),\n",
       " (8281, 'sinks'),\n",
       " (83817, \"youth'\"),\n",
       " (23125, 'humongous'),\n",
       " (34897, 'slimmer'),\n",
       " (71679, 'succulently'),\n",
       " (48574, \"elinore's\"),\n",
       " (58955, 'animaster'),\n",
       " (65106, 'outloud'),\n",
       " (75366, 'grumpiest'),\n",
       " (35250, 'williamsburg'),\n",
       " (68416, 'felecia'),\n",
       " (55805, 'problematically'),\n",
       " (70425, 'snuggest'),\n",
       " (75639, 'chandulal'),\n",
       " (34154, 'saucers'),\n",
       " (12853, 'enlightening'),\n",
       " (86527, 'legitimates'),\n",
       " (86764, 'arcaica'),\n",
       " (67162, 'eliott'),\n",
       " (13586, 'ardent'),\n",
       " (19405, 'perfunctory'),\n",
       " (13587, 'snoop'),\n",
       " (818, 'realistic'),\n",
       " (18532, 'gooey'),\n",
       " (80179, \"lamp's\"),\n",
       " (36744, 'nook'),\n",
       " (52766, 'perspective\\x85'),\n",
       " (17791, 'skinner'),\n",
       " (865, 'stage'),\n",
       " (13968, 'anastasia'),\n",
       " (64303, 'crocuses'),\n",
       " (66148, 'jihadist'),\n",
       " (59598, \"rpm's\"),\n",
       " (12034, 'learnt'),\n",
       " (50315, \"wilcox's\"),\n",
       " (50591, 'pleiades'),\n",
       " (11705, 'absurdly'),\n",
       " (82258, 'doob'),\n",
       " (20354, 'transplanted'),\n",
       " (86286, \"\\x91b'movie\"),\n",
       " (26242, 'ceremonial'),\n",
       " (17460, 'degrades'),\n",
       " (55819, 'kickass'),\n",
       " (21681, 'unreleased'),\n",
       " (37635, 'cambpell'),\n",
       " (51176, 'who’s'),\n",
       " (88226, 'glittery'),\n",
       " (37260, 'karvan'),\n",
       " (15011, 'daryl'),\n",
       " (53504, 'skynet'),\n",
       " (47668, \"shrink's\"),\n",
       " (8450, 'geoffrey'),\n",
       " (44944, 'exhorting'),\n",
       " (60287, 'cheadles'),\n",
       " (53788, \"'rivers\"),\n",
       " (3109, 'crisis'),\n",
       " (85968, \"commando's\"),\n",
       " (88365, 'fiancés'),\n",
       " (9570, 'basil'),\n",
       " (8686, 'borrows'),\n",
       " (3063, 'jay'),\n",
       " (40706, 'doña'),\n",
       " (25749, 'reversals'),\n",
       " (10969, 'perlman'),\n",
       " (2911, 'mouse'),\n",
       " (58859, 'paarthale'),\n",
       " (83412, 'tranvestites'),\n",
       " (37958, 'zira'),\n",
       " (41464, 'sweepstakes'),\n",
       " (48060, 'hoodwinked'),\n",
       " (69275, \"dussolier's\"),\n",
       " (80539, 'renzo'),\n",
       " (74693, \"chariot's\"),\n",
       " (61088, 'summerlee'),\n",
       " (60160, \"tuvoks'\"),\n",
       " (48317, 'remixes'),\n",
       " (55231, 'intros'),\n",
       " (43855, \"cassavetes's\"),\n",
       " (1434, 'forever'),\n",
       " (82097, 'intemperate'),\n",
       " (58198, 'walthal'),\n",
       " (6988, 'void'),\n",
       " (30361, 'dieter'),\n",
       " (73667, 'consolidate'),\n",
       " (24682, 'holier'),\n",
       " (9325, 'fawcett'),\n",
       " (73058, 'fi9lm'),\n",
       " (17040, 'taunting'),\n",
       " (36625, \"survivors'\"),\n",
       " (74387, \"castelnuovo's\"),\n",
       " (79302, \"'geezer'\"),\n",
       " (77619, \"arous'\"),\n",
       " (4394, 'scope'),\n",
       " (11896, 'testimony'),\n",
       " (75417, 'mavis'),\n",
       " (5189, 'marc'),\n",
       " (14019, 'minimalist'),\n",
       " (28569, 'wickedness'),\n",
       " (69382, 'prominant'),\n",
       " (86293, \"galaxy'\"),\n",
       " (4139, '1996'),\n",
       " (39365, 'snart'),\n",
       " (55481, \"he\\x85it'll\"),\n",
       " (35920, 'councellor'),\n",
       " (33220, 'javelin'),\n",
       " (151, 'old'),\n",
       " (24760, 'cityscape'),\n",
       " (85088, 'freeform'),\n",
       " (12519, 'saccharine'),\n",
       " (47126, 'durability'),\n",
       " (2075, 'study'),\n",
       " (72183, 'funny\\x97so'),\n",
       " (17687, \"'all\"),\n",
       " (39547, 'utterances'),\n",
       " (26648, 'antiquities'),\n",
       " (27793, 'discord'),\n",
       " (88178, 'fernandel'),\n",
       " (32539, 'mothering'),\n",
       " (21107, 'offed'),\n",
       " (51639, 'tantalizes'),\n",
       " (24749, 'resilient'),\n",
       " (38411, \"'jurassic\"),\n",
       " (35592, 'axton'),\n",
       " (76035, 'anwers'),\n",
       " (30289, 'braves'),\n",
       " (36344, 'analysing'),\n",
       " (27915, 'habitual'),\n",
       " (87582, 'davidians'),\n",
       " (23096, 'accusation'),\n",
       " (63686, 'enquiries'),\n",
       " (81011, 'endpieces'),\n",
       " (43290, \"mcguire's\"),\n",
       " (78048, 'dither'),\n",
       " (65187, 'chauncey'),\n",
       " (59752, 'bolha'),\n",
       " (6097, 'educated'),\n",
       " (5882, 'exploring'),\n",
       " (13100, 'sporadically'),\n",
       " (43352, 'afrikaans'),\n",
       " (16241, 'choked'),\n",
       " (62433, \"'carousel\"),\n",
       " (29978, '1894'),\n",
       " (66857, 'liquidised'),\n",
       " (44244, 'erfoud'),\n",
       " (12049, 'freshness'),\n",
       " (23376, \"matrix'\"),\n",
       " (31301, 'climbers'),\n",
       " (81702, 'ultranationalist'),\n",
       " (80520, 'latinamerican'),\n",
       " (26000, 'sufferer'),\n",
       " (21658, 'wilds'),\n",
       " (44643, 'pollination'),\n",
       " (57423, 'soils'),\n",
       " (17452, 'guadalcanal'),\n",
       " (37595, \"holden's\"),\n",
       " (80823, \"tides'\"),\n",
       " (16513, 'edmond'),\n",
       " (53409, 'filaments'),\n",
       " (85778, 'cramping'),\n",
       " (68618, \"'dillinger\"),\n",
       " (39105, 'vacillates'),\n",
       " (84433, 'necron'),\n",
       " (6045, 'mirrors'),\n",
       " (77566, \"'perry\"),\n",
       " (1607, 'rented'),\n",
       " (391, 'terrible'),\n",
       " (85666, 'diabolists'),\n",
       " (52457, 'monumentous'),\n",
       " (53586, 'transcribing'),\n",
       " (31495, \"go'\"),\n",
       " (3036, 'chair'),\n",
       " (24384, 'alterations'),\n",
       " (43796, 'convulsions'),\n",
       " (17371, 'evenings'),\n",
       " (59937, 'erodes'),\n",
       " (78403, 'misreads'),\n",
       " (3852, 'differences'),\n",
       " (604, 'save'),\n",
       " (23244, 'precarious'),\n",
       " (63230, 'yellowish'),\n",
       " (30071, 'dishonor'),\n",
       " (80128, 'dente'),\n",
       " (48324, \"'phoned\"),\n",
       " (16133, 'gigs'),\n",
       " (22412, 'coot'),\n",
       " (64893, 'dishevelled'),\n",
       " (20885, 'skeletal'),\n",
       " (11447, 'denominator'),\n",
       " (18085, 'aiden'),\n",
       " (34366, 'stu'),\n",
       " (75462, \"'zero\"),\n",
       " (66005, 'scientifically'),\n",
       " (13460, 'discrimination'),\n",
       " (42105, \"hiralal's\"),\n",
       " (80583, 'craptitude'),\n",
       " (71856, 'foppery'),\n",
       " (58147, 'slapper'),\n",
       " (75343, 'olosio'),\n",
       " (12420, 'attendance'),\n",
       " (35884, 'verona'),\n",
       " (19593, 'composure'),\n",
       " (70087, 'greenaways'),\n",
       " (74813, 'infelicities'),\n",
       " (30410, 'entrée'),\n",
       " (22814, 'adeptly'),\n",
       " (67024, 'oren'),\n",
       " (55404, 'theoffice'),\n",
       " (3572, 'wonders'),\n",
       " (73026, \"'highschool'\"),\n",
       " (42764, 'beo'),\n",
       " (80655, \"'corporate\"),\n",
       " (19004, \"razor's\"),\n",
       " (16684, 'attribute'),\n",
       " (44208, 'gush'),\n",
       " (47705, \"cartoon's\"),\n",
       " (47876, 'charlies'),\n",
       " (53013, 'salaciousness'),\n",
       " (14485, 'makings'),\n",
       " (9464, 'sparse'),\n",
       " (19337, 'searchers'),\n",
       " (18471, 'headmistress'),\n",
       " (76508, 'archeologists'),\n",
       " (50482, 'catharine'),\n",
       " (33682, 'exterminating'),\n",
       " (43703, \"custer's\"),\n",
       " (2082, 'proved'),\n",
       " (58982, 'downriver'),\n",
       " (30272, 'dogfights'),\n",
       " (2321, 'saturday'),\n",
       " (42284, 'mikail'),\n",
       " (88582, 'artbox'),\n",
       " (72196, 'fantes'),\n",
       " (22384, 'friedman'),\n",
       " (80155, \"chair'\"),\n",
       " (3505, 'barry'),\n",
       " (22985, 'brutalized'),\n",
       " (26291, \"down'\"),\n",
       " (31258, \"'yes\"),\n",
       " (38762, 'wilfrid'),\n",
       " (70591, 'lackies'),\n",
       " (75537, \"waynes'\"),\n",
       " (21759, 'flaherty'),\n",
       " (29056, \"iran's\"),\n",
       " (51805, 'nbk'),\n",
       " (17776, 'upward'),\n",
       " (7271, 'snowman'),\n",
       " (511, 'favorite'),\n",
       " (37894, 'supermans'),\n",
       " (30254, 'songwriting'),\n",
       " (55227, 'mazurszky'),\n",
       " (47311, 'commiserate'),\n",
       " (23534, \"'dillinger'\"),\n",
       " (62992, 'burkes'),\n",
       " (8785, 'stripper'),\n",
       " (57748, 'levitates'),\n",
       " (65026, 'subtility'),\n",
       " (72522, 'seguin'),\n",
       " (40881, 'doesn’t'),\n",
       " (47794, 'hensema'),\n",
       " (15666, 'speculate'),\n",
       " (2050, 'stock'),\n",
       " (72843, 'correctable'),\n",
       " (26550, 'zealots'),\n",
       " (82571, 'overrationalization'),\n",
       " (82354, 'favortie'),\n",
       " (63374, 'gushed'),\n",
       " (57613, 'aran'),\n",
       " (81326, 'amÉlie'),\n",
       " (78365, 'anway'),\n",
       " (72022, 'garza'),\n",
       " (24840, 'keyed'),\n",
       " (15708, 'endorse'),\n",
       " (80228, 'frolick'),\n",
       " (9120, 'irresponsible'),\n",
       " (63342, \"'frame'\"),\n",
       " (63618, \"clichéd'\"),\n",
       " (41286, 'seens'),\n",
       " (30505, 'trenchcoat'),\n",
       " (2531, 'committed'),\n",
       " (68548, 'forry'),\n",
       " (770, 'named'),\n",
       " (86994, 'ckco'),\n",
       " (17309, 'plowright'),\n",
       " (24623, 'carnivorous'),\n",
       " (78151, 'spinoffs'),\n",
       " (52488, 'rashamon'),\n",
       " (34306, 'tsang'),\n",
       " (63576, 'alexanderplatz'),\n",
       " (38097, 'farr'),\n",
       " (51799, 'somegoro'),\n",
       " (19714, 'spills'),\n",
       " (65376, 'eser'),\n",
       " (21313, 'surmise'),\n",
       " (68083, 'messinger'),\n",
       " (37652, 'resentments'),\n",
       " (39912, 'unsettlingly'),\n",
       " (37567, \"flavia's\"),\n",
       " (26066, 'sauron'),\n",
       " (10537, 'korda'),\n",
       " (11369, 'lassie'),\n",
       " (23107, \"boy'\"),\n",
       " (16293, 'filipino'),\n",
       " (17745, 'charmer'),\n",
       " (55013, 'janowski'),\n",
       " (26629, 'valentina'),\n",
       " (64743, 'shockingest'),\n",
       " (84666, 'deduces'),\n",
       " (37828, 'hypocrisies'),\n",
       " (29462, 'letty'),\n",
       " (19140, 'kabei'),\n",
       " (26872, 'flagrantly'),\n",
       " (40518, 'largesse'),\n",
       " (8571, 'nest'),\n",
       " (59247, 'windbreaker'),\n",
       " (33961, 'conclusive'),\n",
       " (63010, 'leninist'),\n",
       " (77677, 'tchecky'),\n",
       " (53029, 'järvilaturi'),\n",
       " (41168, \"ronnie's\"),\n",
       " (63420, 'muslimization'),\n",
       " (42539, 'encoded'),\n",
       " (14295, 'sarno'),\n",
       " (61608, 'loudmouth'),\n",
       " (70363, 'candolis'),\n",
       " (16140, 'sigourney'),\n",
       " (46924, 'unmentionable'),\n",
       " (16901, 'homoerotic'),\n",
       " (41011, 'formulation'),\n",
       " (3942, 'pretend'),\n",
       " (66049, 'yacca'),\n",
       " (5042, 'trademark'),\n",
       " (22938, 'permeate'),\n",
       " (45626, \"hills'\"),\n",
       " (20275, 'thighs'),\n",
       " (35991, \"beaton's\"),\n",
       " (50343, 'philosophize'),\n",
       " (41693, 'kretschmann'),\n",
       " (8397, 'replacing'),\n",
       " (18660, 'negotiation'),\n",
       " (1752, 'absurd'),\n",
       " (17161, 'scandinavian'),\n",
       " (80090, \"'seachd'\"),\n",
       " (20074, 'greendale'),\n",
       " (72615, 'swinburne'),\n",
       " (29128, 'urinate'),\n",
       " (40085, \"losey's\"),\n",
       " (69584, 'shimmer'),\n",
       " (58045, 'unachieved'),\n",
       " (5464, 'lush'),\n",
       " (37122, 'deewaar'),\n",
       " (36690, 'homeys'),\n",
       " (40941, 'ogles'),\n",
       " (29589, 'malamud'),\n",
       " (80787, 'opprobrious'),\n",
       " (22111, 'reactor'),\n",
       " (16576, 'rounding'),\n",
       " (43427, \"'been\"),\n",
       " (31071, 'skimp'),\n",
       " (47609, 'leto'),\n",
       " (27711, 'trifling'),\n",
       " (40595, 'pauper'),\n",
       " (10639, 'vinnie'),\n",
       " (53088, 'cmm'),\n",
       " (30501, 'whirlpool'),\n",
       " (36976, 'wilding'),\n",
       " (82791, 'hush\\x85hush\\x85sweet'),\n",
       " (14690, 'diminish'),\n",
       " (25026, 'distancing'),\n",
       " (80990, \"wyne's\"),\n",
       " (21962, 'obscenity'),\n",
       " (69195, \"'smartest\"),\n",
       " (25972, 'belaney'),\n",
       " (269, 'looks'),\n",
       " (42397, 'sirs'),\n",
       " (30616, 'jittery'),\n",
       " (59250, \"cypher's\"),\n",
       " (68286, 'snapshotters'),\n",
       " (16205, 'clap'),\n",
       " (88491, 'jugars'),\n",
       " (78427, 'obliging'),\n",
       " (6733, 'liu'),\n",
       " (83746, 'opportunists'),\n",
       " (22318, 'jodi'),\n",
       " (11873, 'revisit'),\n",
       " (47177, 'vacated'),\n",
       " (36843, 'garp'),\n",
       " (58996, \"honest'\"),\n",
       " (15252, 'dazed'),\n",
       " (80910, 'miglior'),\n",
       " (26309, 'rebar'),\n",
       " (31799, 'scorched'),\n",
       " (52193, 'prostrate'),\n",
       " (17724, 'uproar'),\n",
       " (87273, 'authorty'),\n",
       " (2294, 'chief'),\n",
       " (38307, 'zerelda'),\n",
       " (14817, 'peppered'),\n",
       " (48816, 'iceholes'),\n",
       " (3600, 'achievement'),\n",
       " (64183, 'circumspect'),\n",
       " (16306, 'outcomes'),\n",
       " (5948, 'profession'),\n",
       " (81976, \"nekhron's\"),\n",
       " (4663, 'advise'),\n",
       " (52732, 'moxham'),\n",
       " (25772, 'samurais'),\n",
       " (57422, 'emeritus'),\n",
       " (24998, 'lexi'),\n",
       " (65034, 'chemists'),\n",
       " (25095, 'chefs'),\n",
       " (41365, 'macao'),\n",
       " (81894, 'nutzo'),\n",
       " (47771, 'futurism'),\n",
       " (21574, 'masse'),\n",
       " (63780, 'alongs'),\n",
       " (9989, 'culminating'),\n",
       " (31097, 'township'),\n",
       " (52904, 'senshi'),\n",
       " (77847, 'finese'),\n",
       " (56497, \"bendre's\"),\n",
       " (63552, \"insider's\"),\n",
       " (39476, 'swarthy'),\n",
       " (52840, \"material's\"),\n",
       " (41203, 'krystal'),\n",
       " (51616, 'balasko'),\n",
       " (45980, 'tenuously'),\n",
       " (72379, 'julias'),\n",
       " (8990, 'deadpan'),\n",
       " (15804, 'singapore'),\n",
       " (23055, 'materialistic'),\n",
       " (15235, 'channeling'),\n",
       " (16122, \"'good\"),\n",
       " (52572, 'luske'),\n",
       " (17916, 'conventionally'),\n",
       " (63108, 'movergoers'),\n",
       " (24770, 'implausibilities'),\n",
       " (46245, 'kilt'),\n",
       " (54415, 'gestaldi'),\n",
       " (4069, 'unintentional'),\n",
       " (68585, \"rufus'\"),\n",
       " (1787, 'growing'),\n",
       " (11403, 'rang'),\n",
       " (3647, 'melodramatic'),\n",
       " (72136, 'picutres'),\n",
       " (76397, 'fo'),\n",
       " (69119, 'homebase'),\n",
       " (17801, \"world'\"),\n",
       " (65479, 'mads'),\n",
       " (17448, \"''\"),\n",
       " (18309, 'cavanagh'),\n",
       " (25656, 'conservatives'),\n",
       " (41944, 'wrongheaded'),\n",
       " (61844, 'lembit'),\n",
       " (72920, 'helix'),\n",
       " (773, 'easy'),\n",
       " (7387, 'maintains'),\n",
       " (48519, 'viscously'),\n",
       " (38555, 'wast'),\n",
       " (44174, 'hydra'),\n",
       " (69539, 'molden'),\n",
       " (47785, 'ocron'),\n",
       " (84917, 'goalkeeper'),\n",
       " (30170, 'taming'),\n",
       " (11307, 'comically'),\n",
       " (41245, 'latecomer'),\n",
       " (83518, 'envahisseurs'),\n",
       " (23311, \"paine's\"),\n",
       " (83543, 'behaviours'),\n",
       " (6719, 'ultimatum'),\n",
       " (42799, 'cognition'),\n",
       " (29274, 'genn'),\n",
       " (68660, 'expeditioners'),\n",
       " (60359, 'goobacks'),\n",
       " (68500, 'whitey'),\n",
       " (35587, 'obama'),\n",
       " (85261, 'gorga'),\n",
       " (13638, 'indicated'),\n",
       " (37451, 'authorial'),\n",
       " (57813, 'bope'),\n",
       " (33991, 'cogs'),\n",
       " (54419, 'strengthening'),\n",
       " (70990, 'trendsetter'),\n",
       " (34800, 'disgraces'),\n",
       " (87323, 'rumpy'),\n",
       " (57707, 'survivial'),\n",
       " (31599, 'torme'),\n",
       " (25661, 'prozac'),\n",
       " (67244, 'telesales'),\n",
       " (31828, 'expired'),\n",
       " (54263, 'gondry'),\n",
       " (74449, \"you'l\"),\n",
       " (51767, 'seppuku'),\n",
       " (12766, 'favorable'),\n",
       " (64932, 'apes»'),\n",
       " (11367, 'evolving'),\n",
       " (39956, 'libbing'),\n",
       " (19276, 'overworked'),\n",
       " (40675, 'sequiters'),\n",
       " (25510, 'aleck'),\n",
       " (29416, 'donates'),\n",
       " (80226, 'extrapolates'),\n",
       " (52528, 'maliciously'),\n",
       " (18182, 'devote'),\n",
       " (26530, 'diplomacy'),\n",
       " (37658, 'twosome'),\n",
       " (35355, 'gravedancers'),\n",
       " (12269, 'clunker'),\n",
       " (18969, \"o'connell\"),\n",
       " (54367, 'gondor'),\n",
       " (36047, \"nightmare'\"),\n",
       " (65708, 'skosh'),\n",
       " (65230, \"immortality'\"),\n",
       " (26876, 'plugging'),\n",
       " (41651, 'lyda'),\n",
       " (21036, 'motionless'),\n",
       " (14442, 'hotter'),\n",
       " (78084, \"iliad's\"),\n",
       " (13189, 'revel'),\n",
       " (4300, 'loads'),\n",
       " (9434, 'keeler'),\n",
       " (46507, 'stoked'),\n",
       " (6653, 'havoc'),\n",
       " (71014, 'spinsterish'),\n",
       " (88243, 'popularising'),\n",
       " (11686, 'yuck'),\n",
       " (55145, 'hulled'),\n",
       " (2690, 'murphy'),\n",
       " (21464, 'coworkers'),\n",
       " (46202, 'swans'),\n",
       " (8328, 'holt'),\n",
       " (40729, 'fortunetly'),\n",
       " (57430, 'governement'),\n",
       " (49310, 'lasciviousness'),\n",
       " (40837, 'videodrome'),\n",
       " (10050, 'groan'),\n",
       " (34977, \"randall's\"),\n",
       " (11827, 'abiding'),\n",
       " (22616, 'playback'),\n",
       " (28297, 'lags'),\n",
       " (35840, 'thickness'),\n",
       " (11000, 'freudian'),\n",
       " (18466, 'ellie'),\n",
       " (57113, 'waldsterben'),\n",
       " (32071, 'ordinariness'),\n",
       " (58471, 'niebelungenlied'),\n",
       " (5170, 'billed'),\n",
       " (15914, 'covert'),\n",
       " (47429, \"spouse's\"),\n",
       " (52134, 'peacoat'),\n",
       " (85002, 'stanislavski'),\n",
       " (43715, 'discriminated'),\n",
       " (17179, 'philosophies'),\n",
       " (88015, 'squirrelly'),\n",
       " (80666, 'unfastened'),\n",
       " (78503, 'stylophone'),\n",
       " (52274, \"pyle's\"),\n",
       " (24, 'his'),\n",
       " (53192, 'baseman'),\n",
       " (52048, 'jaekel'),\n",
       " (40737, \"'piece\"),\n",
       " (13563, 'condemn'),\n",
       " (62398, 'olajima'),\n",
       " (22698, 'starbuck'),\n",
       " (70610, \"rossellini's\"),\n",
       " (53871, 'whiteys'),\n",
       " (61293, 'blige'),\n",
       " (60896, 'dandys'),\n",
       " (82493, \"'disappear'\"),\n",
       " (39591, 'biking'),\n",
       " (9467, 'bass'),\n",
       " (49685, \"'taking\"),\n",
       " (14504, 'ferrari'),\n",
       " (64945, \"'spacecamp'\"),\n",
       " (67178, 'arggh'),\n",
       " (82080, \"norton'd\"),\n",
       " (11076, 'bunker'),\n",
       " (26922, 'faculty'),\n",
       " (81143, 'documenter'),\n",
       " (4082, 'focusing'),\n",
       " (25592, 'santoshi'),\n",
       " (50100, 'nauseates'),\n",
       " (77792, \"vallette's\"),\n",
       " (18469, 'compensation'),\n",
       " (82786, 'almerayeda'),\n",
       " (6375, 'gable'),\n",
       " (380, 'sex'),\n",
       " (14905, 'dwells'),\n",
       " (30512, \"usa's\"),\n",
       " (39565, \"wrestlemania's\"),\n",
       " (26003, 'ingenuous'),\n",
       " (10431, 'flirting'),\n",
       " (64475, 'shipmate'),\n",
       " (70726, 'bürgermeister'),\n",
       " (55262, 'airial'),\n",
       " (67567, 'textually'),\n",
       " (42527, 'transformer'),\n",
       " (33372, 'harmonica'),\n",
       " (55441, 'renames'),\n",
       " (52471, 'arrrrgh'),\n",
       " (47792, \"cheatin'\"),\n",
       " (29802, 'boosts'),\n",
       " (81127, 'abahy'),\n",
       " (65287, 'worlde'),\n",
       " (82010, 'ashen'),\n",
       " (30425, \"family'\"),\n",
       " (62559, 'inverting'),\n",
       " (10178, 'shue'),\n",
       " (15202, 'tyranny'),\n",
       " (69559, 'brawlers'),\n",
       " (6424, 'clash'),\n",
       " (73502, 'readin'),\n",
       " (15689, 'plea'),\n",
       " (83230, \"'awakening\"),\n",
       " (9276, 'didnt'),\n",
       " (18908, 'gideon'),\n",
       " (76760, 'dogpile'),\n",
       " (51964, 'dividends'),\n",
       " (27675, 'averse'),\n",
       " (43785, \"chato's\"),\n",
       " (51384, 'gantlet'),\n",
       " (7083, 'gilbert'),\n",
       " (83731, 'ceos'),\n",
       " (69156, \"rochester'\"),\n",
       " (18263, 'upwards'),\n",
       " (50215, 'too\\x85'),\n",
       " (52238, 'caskets'),\n",
       " (61703, 'film\\x97'),\n",
       " (51341, 'victimizer'),\n",
       " (46834, \"yelli's\"),\n",
       " (41681, 'comdey'),\n",
       " (80836, 'llbean'),\n",
       " (78014, 'sudie'),\n",
       " (73235, 'mindscrewing'),\n",
       " (23735, 'unscary'),\n",
       " (55307, 'appalachians'),\n",
       " (29377, 'aiken'),\n",
       " (62895, \"suit'\"),\n",
       " (44421, 'rusting'),\n",
       " (742, 'richard'),\n",
       " ...]"
      ]
     },
     "execution_count": 64,
     "metadata": {},
     "output_type": "execute_result"
    }
   ],
   "source": [
    "[(value, key) for (key, value) in word_index.items()]"
   ]
  },
  {
   "cell_type": "code",
   "execution_count": 75,
   "metadata": {},
   "outputs": [
    {
     "data": {
      "text/plain": [
       "646"
      ]
     },
     "execution_count": 75,
     "metadata": {},
     "output_type": "execute_result"
    }
   ],
   "source": [
    "len(test_data[1])"
   ]
  },
  {
   "cell_type": "code",
   "execution_count": 68,
   "metadata": {},
   "outputs": [
    {
     "name": "stdout",
     "output_type": "stream",
     "text": [
      "[1, 14, 22, 16, 43, 530, 973, 1622, 1385, 65, 458, 4468, 66, 3941, 4, 173, 36, 256, 5, 25, 100, 43, 838, 112, 50, 670, 2, 9, 35, 480, 284, 5, 150, 4, 172, 112, 167, 2, 336, 385, 39, 4, 172, 4536, 1111, 17, 546, 38, 13, 447, 4, 192, 50, 16, 6, 147, 2025, 19, 14, 22, 4, 1920, 4613, 469, 4, 22, 71, 87, 12, 16, 43, 530, 38, 76, 15, 13, 1247, 4, 22, 17, 515, 17, 12, 16, 626, 18, 2, 5, 62, 386, 12, 8, 316, 8, 106, 5, 4, 2223, 5244, 16, 480, 66, 3785, 33, 4, 130, 12, 16, 38, 619, 5, 25, 124, 51, 36, 135, 48, 25, 1415, 33, 6, 22, 12, 215, 28, 77, 52, 5, 14, 407, 16, 82, 2, 8, 4, 107, 117, 5952, 15, 256, 4, 2, 7, 3766, 5, 723, 36, 71, 43, 530, 476, 26, 400, 317, 46, 7, 4, 2, 1029, 13, 104, 88, 4, 381, 15, 297, 98, 32, 2071, 56, 26, 141, 6, 194, 7486, 18, 4, 226, 22, 21, 134, 476, 26, 480, 5, 144, 30, 5535, 18, 51, 36, 28, 224, 92, 25, 104, 4, 226, 65, 16, 38, 1334, 88, 12, 16, 283, 5, 16, 4472, 113, 103, 32, 15, 16, 5345, 19, 178, 32]\n"
     ]
    }
   ],
   "source": [
    "print(train_data[0])"
   ]
  },
  {
   "cell_type": "code",
   "execution_count": 69,
   "metadata": {},
   "outputs": [
    {
     "data": {
      "text/plain": [
       "'this'"
      ]
     },
     "execution_count": 69,
     "metadata": {},
     "output_type": "execute_result"
    }
   ],
   "source": [
    "reverse_word_index.get(14 - 3, '?')"
   ]
  },
  {
   "cell_type": "code",
   "execution_count": 55,
   "metadata": {},
   "outputs": [
    {
     "data": {
      "text/plain": [
       "11"
      ]
     },
     "execution_count": 55,
     "metadata": {},
     "output_type": "execute_result"
    }
   ],
   "source": [
    "word_index['this']"
   ]
  },
  {
   "cell_type": "code",
   "execution_count": 167,
   "metadata": {},
   "outputs": [
    {
     "name": "stdout",
     "output_type": "stream",
     "text": [
      "[None, 'this', 'film', 'was', 'just', 'brilliant', 'casting', 'location', 'scenery', 'story', 'direction', \"everyone's\", 'really', 'suited', 'the', 'part', 'they', 'played', 'and', 'you', 'could', 'just', 'imagine', 'being', 'there', 'robert', None, 'is', 'an', 'amazing', 'actor', 'and', 'now', 'the', 'same', 'being', 'director', None, 'father', 'came', 'from', 'the', 'same', 'scottish', 'island', 'as', 'myself', 'so', 'i', 'loved', 'the', 'fact', 'there', 'was', 'a', 'real', 'connection', 'with', 'this', 'film', 'the', 'witty', 'remarks', 'throughout', 'the', 'film', 'were', 'great', 'it', 'was', 'just', 'brilliant', 'so', 'much', 'that', 'i', 'bought', 'the', 'film', 'as', 'soon', 'as', 'it', 'was', 'released', 'for', None, 'and', 'would', 'recommend', 'it', 'to', 'everyone', 'to', 'watch', 'and', 'the', 'fly', 'fishing', 'was', 'amazing', 'really', 'cried', 'at', 'the', 'end', 'it', 'was', 'so', 'sad', 'and', 'you', 'know', 'what', 'they', 'say', 'if', 'you', 'cry', 'at', 'a', 'film', 'it', 'must', 'have', 'been', 'good', 'and', 'this', 'definitely', 'was', 'also', None, 'to', 'the', 'two', 'little', \"boy's\", 'that', 'played', 'the', None, 'of', 'norman', 'and', 'paul', 'they', 'were', 'just', 'brilliant', 'children', 'are', 'often', 'left', 'out', 'of', 'the', None, 'list', 'i', 'think', 'because', 'the', 'stars', 'that', 'play', 'them', 'all', 'grown', 'up', 'are', 'such', 'a', 'big', 'profile', 'for', 'the', 'whole', 'film', 'but', 'these', 'children', 'are', 'amazing', 'and', 'should', 'be', 'praised', 'for', 'what', 'they', 'have', 'done', \"don't\", 'you', 'think', 'the', 'whole', 'story', 'was', 'so', 'lovely', 'because', 'it', 'was', 'true', 'and', 'was', \"someone's\", 'life', 'after', 'all', 'that', 'was', 'shared', 'with', 'us', 'all']\n"
     ]
    }
   ],
   "source": [
    "print([reverse_word_index.get(i-3) for i in train_data[0]])"
   ]
  },
  {
   "cell_type": "code",
   "execution_count": 71,
   "metadata": {},
   "outputs": [
    {
     "data": {
      "text/plain": [
       "\"? this film was just brilliant casting location scenery story direction everyone's really suited the part they played and you could just imagine being there robert ? is an amazing actor and now the same being director ? father came from the same scottish island as myself so i loved the fact there was a real connection with this film the witty remarks throughout the film were great it was just brilliant so much that i bought the film as soon as it was released for ? and would recommend it to everyone to watch and the fly fishing was amazing really cried at the end it was so sad and you know what they say if you cry at a film it must have been good and this definitely was also ? to the two little boy's that played the ? of norman and paul they were just brilliant children are often left out of the ? list i think because the stars that play them all grown up are such a big profile for the whole film but these children are amazing and should be praised for what they have done don't you think the whole story was so lovely because it was true and was someone's life after all that was shared with us all\""
      ]
     },
     "execution_count": 71,
     "metadata": {},
     "output_type": "execute_result"
    }
   ],
   "source": [
    "' '.join([reverse_word_index.get(i-3, '?') for i in train_data[0]])"
   ]
  },
  {
   "cell_type": "code",
   "execution_count": 26,
   "metadata": {},
   "outputs": [
    {
     "data": {
      "text/plain": [
       "\"? this film was just brilliant casting location scenery story direction everyone's really suited the part they played and you could just imagine being there robert ? is an amazing actor and now the same being director ? father came from the same scottish island as myself so i loved the fact there was a real connection with this film the witty remarks throughout the film were great it was just brilliant so much that i bought the film as soon as it was released for ? and would recommend it to everyone to watch and the fly fishing was amazing really cried at the end it was so sad and you know what they say if you cry at a film it must have been good and this definitely was also ? to the two little boy's that played the ? of norman and paul they were just brilliant children are often left out of the ? list i think because the stars that play them all grown up are such a big profile for the whole film but these children are amazing and should be praised for what they have done don't you think the whole story was so lovely because it was true and was someone's life after all that was shared with us all\""
      ]
     },
     "execution_count": 26,
     "metadata": {},
     "output_type": "execute_result"
    }
   ],
   "source": [
    "decoded_review"
   ]
  },
  {
   "cell_type": "markdown",
   "metadata": {},
   "source": [
    "## Preparing the data\n",
    "\n",
    "\n",
    "We cannot feed lists of integers into a neural network. We have to turn our lists into tensors. There are two ways we could do that:\n",
    "\n",
    "* We could pad our lists so that they all have the same length, and turn them into an integer tensor of shape `(samples, word_indices)`, \n",
    "then use as first layer in our network a layer capable of handling such integer tensors (the `Embedding` layer, which we will cover in \n",
    "detail later in the book).\n",
    "* We could one-hot-encode our lists to turn them into vectors of 0s and 1s. Concretely, this would mean for instance turning the sequence \n",
    "`[3, 5]` into a 10,000-dimensional vector that would be all-zeros except for indices 3 and 5, which would be ones. Then we could use as \n",
    "first layer in our network a `Dense` layer, capable of handling floating point vector data.\n",
    "\n",
    "We will go with the latter solution. Let's vectorize our data, which we will do manually for maximum clarity:"
   ]
  },
  {
   "cell_type": "code",
   "execution_count": 124,
   "metadata": {},
   "outputs": [
    {
     "name": "stdout",
     "output_type": "stream",
     "text": [
      "type: <class 'list'>\n",
      "Last sequence: [1, 2, 2, 2, 2, 2, 2, 2, 2, 2, 2, 2, 2, 4, 4, 4, 4, 4, 4, 4, 4, 4, 4, 5, 5, 5, 5, 5, 5, 6]\n",
      "Last row of results:\n",
      "[ 0.  1.  1.  0.  1.  1.  1.  1.  1.  1.]\n",
      "type: <class 'list'>\n",
      "Last sequence: [1, 2, 2, 2, 2, 2, 2, 2, 2, 4, 4, 4, 4, 4, 5, 5, 5, 5, 5, 5, 6, 6, 6, 6, 6, 6, 7, 7, 8, 8]\n",
      "Last row of results:\n",
      "[ 0.  1.  1.  0.  1.  1.  1.  1.  1.  1.]\n"
     ]
    }
   ],
   "source": [
    "import numpy as np\n",
    "\n",
    "def vectorize_sequences(sequences, dimension=10000):\n",
    "    # Create an all-zero matrix of shape (len(sequences), dimension)\n",
    "    results = np.zeros((len(sequences), dimension))\n",
    "    for i, sequence in enumerate(sequences):\n",
    "        results[i, sequence] = 1.  # set specific indices of results[i] to 1s\n",
    "    print('type:' ,type(sequence))\n",
    "    print('Last sequence:',sorted(sequence)[:30])\n",
    "    print('Last row of results:')\n",
    "    print(results[-1][:10])\n",
    "    return results\n",
    "\n",
    "# Our vectorized training data\n",
    "x_train = vectorize_sequences(train_data)\n",
    "# Our vectorized test data\n",
    "x_test = vectorize_sequences(test_data)"
   ]
  },
  {
   "cell_type": "code",
   "execution_count": 143,
   "metadata": {},
   "outputs": [
    {
     "data": {
      "text/plain": [
       "25000"
      ]
     },
     "execution_count": 143,
     "metadata": {},
     "output_type": "execute_result"
    }
   ],
   "source": [
    "len(train_data)"
   ]
  },
  {
   "cell_type": "markdown",
   "metadata": {},
   "source": [
    "## np.array() or np.zeros(1,4) is mutable by list as index\n",
    "* [0,0,0,0] is not mutable"
   ]
  },
  {
   "cell_type": "code",
   "execution_count": 132,
   "metadata": {},
   "outputs": [
    {
     "data": {
      "text/plain": [
       "array([1, 1, 0, 1])"
      ]
     },
     "execution_count": 132,
     "metadata": {},
     "output_type": "execute_result"
    }
   ],
   "source": [
    "rr = np.array([0,0,0,0])\n",
    "tt = [1,0,3,0]\n",
    "rr[tt] = 1\n",
    "rr"
   ]
  },
  {
   "cell_type": "markdown",
   "metadata": {},
   "source": [
    "Here's what our samples look like now:"
   ]
  },
  {
   "cell_type": "code",
   "execution_count": 28,
   "metadata": {},
   "outputs": [
    {
     "data": {
      "text/plain": [
       "array([ 0.,  1.,  1., ...,  0.,  0.,  0.])"
      ]
     },
     "execution_count": 28,
     "metadata": {},
     "output_type": "execute_result"
    }
   ],
   "source": [
    "x_train[0]"
   ]
  },
  {
   "cell_type": "markdown",
   "metadata": {},
   "source": [
    "We should also vectorize our labels, which is straightforward:"
   ]
  },
  {
   "cell_type": "code",
   "execution_count": 144,
   "metadata": {
    "collapsed": true
   },
   "outputs": [],
   "source": [
    "# Our vectorized labels\n",
    "y_train = np.asarray(train_labels).astype('float32')\n",
    "y_test = np.asarray(test_labels).astype('float32')"
   ]
  },
  {
   "cell_type": "markdown",
   "metadata": {},
   "source": [
    "Now our data is ready to be fed into a neural network."
   ]
  },
  {
   "cell_type": "markdown",
   "metadata": {},
   "source": [
    "## Building our network\n",
    "\n",
    "\n",
    "Our input data is simply vectors, and our labels are scalars (1s and 0s): this is the easiest setup you will ever encounter. A type of \n",
    "network that performs well on such a problem would be a simple stack of fully-connected (`Dense`) layers with `relu` activations: `Dense(16, \n",
    "activation='relu')`\n",
    "\n",
    "The argument being passed to each `Dense` layer (16) is the number of \"hidden units\" of the layer. What's a hidden unit? It's a dimension \n",
    "in the representation space of the layer. You may remember from the previous chapter that each such `Dense` layer with a `relu` activation implements \n",
    "the following chain of tensor operations:\n",
    "\n",
    "`output = relu(dot(W, input) + b)`\n",
    "\n",
    "Having 16 hidden units means that the weight matrix `W` will have shape `(input_dimension, 16)`, i.e. the dot product with `W` will project the \n",
    "input data onto a 16-dimensional representation space (and then we would add the bias vector `b` and apply the `relu` operation). You can \n",
    "intuitively understand the dimensionality of your representation space as \"how much freedom you are allowing the network to have when \n",
    "learning internal representations\". Having more hidden units (a higher-dimensional representation space) allows your network to learn more \n",
    "complex representations, but it makes your network more computationally expensive and may lead to learning unwanted patterns (patterns that \n",
    "will improve performance on the training data but not on the test data).\n",
    "\n",
    "There are two key architecture decisions to be made about such stack of dense layers:\n",
    "\n",
    "* How many layers to use.\n",
    "* How many \"hidden units\" to chose for each layer.\n",
    "\n",
    "In the next chapter, you will learn formal principles to guide you in making these choices. \n",
    "For the time being, you will have to trust us with the following architecture choice: \n",
    "two intermediate layers with 16 hidden units each, \n",
    "and a third layer which will output the scalar prediction regarding the sentiment of the current review. \n",
    "The intermediate layers will use `relu` as their \"activation function\", \n",
    "and the final layer will use a sigmoid activation so as to output a probability \n",
    "(a score between 0 and 1, indicating how likely the sample is to have the target \"1\", i.e. how likely the review is to be positive). \n",
    "A `relu` (rectified linear unit) is a function meant to zero-out negative values, \n",
    "while a sigmoid \"squashes\" arbitrary values into the `[0, 1]` interval, thus outputting something that can be interpreted as a probability."
   ]
  },
  {
   "cell_type": "markdown",
   "metadata": {},
   "source": [
    "Here's what our network looks like:\n",
    "\n",
    "![3-layer network](https://s3.amazonaws.com/book.keras.io/img/ch3/3_layer_network.png)"
   ]
  },
  {
   "cell_type": "markdown",
   "metadata": {},
   "source": [
    "And here's the Keras implementation, very similar to the MNIST example you saw previously:"
   ]
  },
  {
   "cell_type": "code",
   "execution_count": 145,
   "metadata": {
    "collapsed": true
   },
   "outputs": [],
   "source": [
    "from keras import models\n",
    "from keras import layers\n",
    "\n",
    "model = models.Sequential()\n",
    "model.add(layers.Dense(16, activation='relu', input_shape=(10000,)))\n",
    "model.add(layers.Dense(16, activation='relu'))\n",
    "model.add(layers.Dense(1, activation='sigmoid'))"
   ]
  },
  {
   "cell_type": "markdown",
   "metadata": {},
   "source": [
    "\n",
    "Lastly, we need to pick a loss function and an optimizer. Since we are facing a binary classification problem and the output of our network \n",
    "is a probability (we end our network with a single-unit layer with a sigmoid activation), is it best to use the `binary_crossentropy` loss. \n",
    "It isn't the only viable choice: you could use, for instance, `mean_squared_error`. But crossentropy is usually the best choice when you \n",
    "are dealing with models that output probabilities. Crossentropy is a quantity from the field of Information Theory, that measures the \"distance\" \n",
    "between probability distributions, or in our case, between the ground-truth distribution and our predictions.\n",
    "\n",
    "Here's the step where we configure our model with the `rmsprop` optimizer and the `binary_crossentropy` loss function. Note that we will \n",
    "also monitor accuracy during training."
   ]
  },
  {
   "cell_type": "code",
   "execution_count": 146,
   "metadata": {
    "collapsed": true
   },
   "outputs": [],
   "source": [
    "model.compile(optimizer='rmsprop',\n",
    "              loss='binary_crossentropy',\n",
    "              metrics=['accuracy'])"
   ]
  },
  {
   "cell_type": "markdown",
   "metadata": {},
   "source": [
    "We are passing our optimizer, loss function and metrics as strings, which is possible because `rmsprop`, `binary_crossentropy` and \n",
    "`accuracy` are packaged as part of Keras. Sometimes you may want to configure the parameters of your optimizer, or pass a custom loss \n",
    "function or metric function. This former can be done by passing an optimizer class instance as the `optimizer` argument:"
   ]
  },
  {
   "cell_type": "code",
   "execution_count": 147,
   "metadata": {
    "collapsed": true
   },
   "outputs": [],
   "source": [
    "from keras import optimizers\n",
    "\n",
    "model.compile(optimizer=optimizers.RMSprop(lr=0.001),\n",
    "              loss='binary_crossentropy',\n",
    "              metrics=['accuracy'])"
   ]
  },
  {
   "cell_type": "markdown",
   "metadata": {},
   "source": [
    "The latter can be done by passing function objects as the `loss` or `metrics` arguments:"
   ]
  },
  {
   "cell_type": "code",
   "execution_count": 148,
   "metadata": {
    "collapsed": true
   },
   "outputs": [],
   "source": [
    "from keras import losses\n",
    "from keras import metrics\n",
    "\n",
    "model.compile(optimizer=optimizers.RMSprop(lr=0.001),\n",
    "              loss=losses.binary_crossentropy,\n",
    "              metrics=[metrics.binary_accuracy])"
   ]
  },
  {
   "cell_type": "markdown",
   "metadata": {},
   "source": [
    "## Validating our approach\n",
    "\n",
    "In order to monitor during training the accuracy of the model on data that it has never seen before, we will create a \"validation set\" by \n",
    "setting apart 10,000 samples from the original training data:"
   ]
  },
  {
   "cell_type": "code",
   "execution_count": 149,
   "metadata": {
    "collapsed": true
   },
   "outputs": [],
   "source": [
    "x_val = x_train[:10000]\n",
    "partial_x_train = x_train[10000:]\n",
    "\n",
    "y_val = y_train[:10000]\n",
    "partial_y_train = y_train[10000:]"
   ]
  },
  {
   "cell_type": "markdown",
   "metadata": {
    "collapsed": true
   },
   "source": [
    "We will now train our model for 20 epochs (20 iterations over all samples in the `x_train` and `y_train` tensors), in mini-batches of 512 \n",
    "samples. At this same time we will monitor loss and accuracy on the 10,000 samples that we set apart. This is done by passing the \n",
    "validation data as the `validation_data` argument:"
   ]
  },
  {
   "cell_type": "code",
   "execution_count": 150,
   "metadata": {},
   "outputs": [
    {
     "name": "stdout",
     "output_type": "stream",
     "text": [
      "Train on 15000 samples, validate on 10000 samples\n",
      "Epoch 1/20\n",
      "15000/15000 [==============================] - 2s - loss: 0.5157 - binary_accuracy: 0.7894 - val_loss: 0.4010 - val_binary_accuracy: 0.8653\n",
      "Epoch 2/20\n",
      "15000/15000 [==============================] - 2s - loss: 0.3146 - binary_accuracy: 0.9029 - val_loss: 0.3249 - val_binary_accuracy: 0.8788\n",
      "Epoch 3/20\n",
      "15000/15000 [==============================] - 2s - loss: 0.2320 - binary_accuracy: 0.9246 - val_loss: 0.2808 - val_binary_accuracy: 0.8926\n",
      "Epoch 4/20\n",
      "15000/15000 [==============================] - 2s - loss: 0.1816 - binary_accuracy: 0.9429 - val_loss: 0.2730 - val_binary_accuracy: 0.8907\n",
      "Epoch 5/20\n",
      "15000/15000 [==============================] - 2s - loss: 0.1495 - binary_accuracy: 0.9515 - val_loss: 0.2780 - val_binary_accuracy: 0.8892\n",
      "Epoch 6/20\n",
      "15000/15000 [==============================] - 2s - loss: 0.1208 - binary_accuracy: 0.9631 - val_loss: 0.3230 - val_binary_accuracy: 0.8803\n",
      "Epoch 7/20\n",
      "15000/15000 [==============================] - 2s - loss: 0.1030 - binary_accuracy: 0.9690 - val_loss: 0.3046 - val_binary_accuracy: 0.8849\n",
      "Epoch 8/20\n",
      "15000/15000 [==============================] - 2s - loss: 0.0848 - binary_accuracy: 0.9761 - val_loss: 0.3365 - val_binary_accuracy: 0.8775\n",
      "Epoch 9/20\n",
      "15000/15000 [==============================] - 2s - loss: 0.0729 - binary_accuracy: 0.9803 - val_loss: 0.3589 - val_binary_accuracy: 0.8807\n",
      "Epoch 10/20\n",
      "15000/15000 [==============================] - 2s - loss: 0.0583 - binary_accuracy: 0.9861 - val_loss: 0.3725 - val_binary_accuracy: 0.8805\n",
      "Epoch 11/20\n",
      "15000/15000 [==============================] - 2s - loss: 0.0492 - binary_accuracy: 0.9884 - val_loss: 0.3975 - val_binary_accuracy: 0.8780\n",
      "Epoch 12/20\n",
      "15000/15000 [==============================] - 2s - loss: 0.0388 - binary_accuracy: 0.9921 - val_loss: 0.4402 - val_binary_accuracy: 0.8774\n",
      "Epoch 13/20\n",
      "15000/15000 [==============================] - 2s - loss: 0.0306 - binary_accuracy: 0.9945 - val_loss: 0.4522 - val_binary_accuracy: 0.8745\n",
      "Epoch 14/20\n",
      "15000/15000 [==============================] - 2s - loss: 0.0245 - binary_accuracy: 0.9959 - val_loss: 0.4801 - val_binary_accuracy: 0.8730\n",
      "Epoch 15/20\n",
      "15000/15000 [==============================] - 1s - loss: 0.0196 - binary_accuracy: 0.9973 - val_loss: 0.5802 - val_binary_accuracy: 0.8645\n",
      "Epoch 16/20\n",
      "15000/15000 [==============================] - 2s - loss: 0.0129 - binary_accuracy: 0.9992 - val_loss: 0.5567 - val_binary_accuracy: 0.8726\n",
      "Epoch 17/20\n",
      "15000/15000 [==============================] - 2s - loss: 0.0122 - binary_accuracy: 0.9987 - val_loss: 0.5864 - val_binary_accuracy: 0.8721\n",
      "Epoch 18/20\n",
      "15000/15000 [==============================] - 2s - loss: 0.0100 - binary_accuracy: 0.9981 - val_loss: 0.6070 - val_binary_accuracy: 0.8687\n",
      "Epoch 19/20\n",
      "15000/15000 [==============================] - 2s - loss: 0.0072 - binary_accuracy: 0.9992 - val_loss: 0.6390 - val_binary_accuracy: 0.8671\n",
      "Epoch 20/20\n",
      "15000/15000 [==============================] - 2s - loss: 0.0040 - binary_accuracy: 0.9999 - val_loss: 0.6769 - val_binary_accuracy: 0.8674\n"
     ]
    }
   ],
   "source": [
    "history = model.fit(partial_x_train,\n",
    "                    partial_y_train,\n",
    "                    epochs=20,\n",
    "                    batch_size=512,\n",
    "                    validation_data=(x_val, y_val))"
   ]
  },
  {
   "cell_type": "markdown",
   "metadata": {},
   "source": [
    "On CPU, this will take less than two seconds per epoch -- training is over in 20 seconds. At the end of every epoch, there is a slight pause \n",
    "as the model computes its loss and accuracy on the 10,000 samples of the validation data.\n",
    "\n",
    "Note that the call to `model.fit()` returns a `History` object. This object has a member `history`, which is a dictionary containing data \n",
    "about everything that happened during training. Let's take a look at it:"
   ]
  },
  {
   "cell_type": "code",
   "execution_count": 151,
   "metadata": {},
   "outputs": [
    {
     "data": {
      "text/plain": [
       "dict_keys(['val_binary_accuracy', 'val_loss', 'loss', 'binary_accuracy'])"
      ]
     },
     "execution_count": 151,
     "metadata": {},
     "output_type": "execute_result"
    }
   ],
   "source": [
    "history_dict = history.history\n",
    "history_dict.keys()"
   ]
  },
  {
   "cell_type": "markdown",
   "metadata": {},
   "source": [
    "It contains 4 entries: one per metric that was being monitored, during training and during validation. Let's use Matplotlib to plot the \n",
    "training and validation loss side by side, as well as the training and validation accuracy:"
   ]
  },
  {
   "cell_type": "code",
   "execution_count": 155,
   "metadata": {},
   "outputs": [
    {
     "data": {
      "image/png": "[encoded data removed]",
      "text/plain": [
       "<matplotlib.figure.Figure at 0x1fbbec88>"
      ]
     },
     "metadata": {},
     "output_type": "display_data"
    }
   ],
   "source": [
    "import matplotlib.pyplot as plt\n",
    "\n",
    "acc = history.history['binary_accuracy']\n",
    "val_acc = history.history['val_binary_accuracy']\n",
    "loss = history.history['loss']\n",
    "val_loss = history.history['val_loss']\n",
    "\n",
    "epochs = range(1, len(acc) + 1)\n",
    "\n",
    "# \"bo\" is for \"blue dot\"\n",
    "plt.plot(epochs, loss, 'bo', label='Training loss')\n",
    "# b is for \"solid blue line\"\n",
    "plt.plot(epochs, val_loss, 'b', label='Validation loss')\n",
    "plt.title('Training and validation loss')\n",
    "plt.xlabel('Epochs')\n",
    "plt.ylabel('Loss')\n",
    "plt.legend()\n",
    "\n",
    "plt.show()"
   ]
  },
  {
   "cell_type": "code",
   "execution_count": 156,
   "metadata": {},
   "outputs": [
    {
     "data": {
      "text/plain": [
       "dict_keys(['val_binary_accuracy', 'val_loss', 'loss', 'binary_accuracy'])"
      ]
     },
     "execution_count": 156,
     "metadata": {},
     "output_type": "execute_result"
    }
   ],
   "source": [
    "history_dict.keys()"
   ]
  },
  {
   "cell_type": "code",
   "execution_count": 159,
   "metadata": {},
   "outputs": [
    {
     "data": {
      "text/plain": [
       "<matplotlib.figure.Figure at 0x1745de80>"
      ]
     },
     "metadata": {},
     "output_type": "display_data"
    },
    {
     "data": {
      "image/png": "[encoded data removed]",
      "text/plain": [
       "<matplotlib.figure.Figure at 0x17500a20>"
      ]
     },
     "metadata": {},
     "output_type": "display_data"
    }
   ],
   "source": [
    "plt.clf()   # clear figure\n",
    "plt.figure(figsize=(10,8))\n",
    "acc_values = history_dict['binary_accuracy']\n",
    "val_acc_values = history_dict['val_binary_accuracy']\n",
    "\n",
    "plt.plot(epochs, acc, 'bo', label='Training acc')\n",
    "plt.plot(epochs, val_acc, 'b', label='Validation acc')\n",
    "plt.title('Training and validation accuracy')\n",
    "plt.xlabel('Epochs')\n",
    "plt.ylabel('Loss')\n",
    "plt.legend()\n",
    "\n",
    "plt.show()"
   ]
  },
  {
   "cell_type": "markdown",
   "metadata": {},
   "source": [
    "\n",
    "The dots are the training loss and accuracy, while the solid lines are the validation loss and accuracy. Note that your own results may vary \n",
    "slightly due to a different random initialization of your network.\n",
    "\n",
    "As you can see, the training loss decreases with every epoch and the training accuracy increases with every epoch. That's what you would \n",
    "expect when running gradient descent optimization -- the quantity you are trying to minimize should get lower with every iteration. But that \n",
    "isn't the case for the validation loss and accuracy: they seem to peak at the fourth epoch. This is an example of what we were warning \n",
    "against earlier: a model that performs better on the training data isn't necessarily a model that will do better on data it has never seen \n",
    "before. In precise terms, what you are seeing is \"overfitting\": after the second epoch, we are over-optimizing on the training data, and we \n",
    "ended up learning representations that are specific to the training data and do not generalize to data outside of the training set.\n",
    "\n",
    "In this case, to prevent overfitting, we could simply stop training after three epochs. In general, there is a range of techniques you can \n",
    "leverage to mitigate overfitting, which we will cover in the next chapter.\n",
    "\n",
    "Let's train a new network from scratch for four epochs, then evaluate it on our test data:"
   ]
  },
  {
   "cell_type": "markdown",
   "metadata": {},
   "source": [
    "## Use np.argmax(val_acc) to improve accuracy on test data"
   ]
  },
  {
   "cell_type": "code",
   "execution_count": 163,
   "metadata": {},
   "outputs": [
    {
     "data": {
      "text/plain": [
       "2"
      ]
     },
     "execution_count": 163,
     "metadata": {},
     "output_type": "execute_result"
    }
   ],
   "source": [
    "np.argmax(val_acc)"
   ]
  },
  {
   "cell_type": "code",
   "execution_count": 165,
   "metadata": {},
   "outputs": [
    {
     "name": "stdout",
     "output_type": "stream",
     "text": [
      "Epoch 1/3\n",
      "25000/25000 [==============================] - 2s - loss: 0.4552 - acc: 0.8212     \n",
      "Epoch 2/3\n",
      "25000/25000 [==============================] - 2s - loss: 0.2628 - acc: 0.9087     \n",
      "Epoch 3/3\n",
      "25000/25000 [==============================] - 2s - loss: 0.2016 - acc: 0.9285     \n",
      "24992/25000 [============================>.] - ETA: 0s"
     ]
    }
   ],
   "source": [
    "model = models.Sequential()\n",
    "model.add(layers.Dense(16, activation='relu', input_shape=(10000,)))\n",
    "model.add(layers.Dense(16, activation='relu'))\n",
    "model.add(layers.Dense(1, activation='sigmoid'))\n",
    "\n",
    "model.compile(optimizer='rmsprop',\n",
    "              loss='binary_crossentropy',\n",
    "              metrics=['accuracy'])\n",
    "\n",
    "model.fit(x_train, y_train, epochs=3, batch_size=512)\n",
    "results = model.evaluate(x_test, y_test)"
   ]
  },
  {
   "cell_type": "code",
   "execution_count": 166,
   "metadata": {},
   "outputs": [
    {
     "data": {
      "text/plain": [
       "[0.28099370065689089, 0.88863999999999999]"
      ]
     },
     "execution_count": 166,
     "metadata": {},
     "output_type": "execute_result"
    }
   ],
   "source": [
    "results"
   ]
  },
  {
   "cell_type": "markdown",
   "metadata": {},
   "source": [
    "Our fairly naive approach achieves an accuracy of 88%. With state-of-the-art approaches, one should be able to get close to 95%."
   ]
  },
  {
   "cell_type": "markdown",
   "metadata": {},
   "source": [
    "## Using a trained network to generate predictions on new data\n",
    "\n",
    "After having trained a network, you will want to use it in a practical setting. You can generate the likelihood of reviews being positive \n",
    "by using the `predict` method:"
   ]
  },
  {
   "cell_type": "code",
   "execution_count": 26,
   "metadata": {},
   "outputs": [
    {
     "data": {
      "text/plain": [
       "array([[ 0.91966152],\n",
       "       [ 0.86563045],\n",
       "       [ 0.99936908],\n",
       "       ..., \n",
       "       [ 0.45731062],\n",
       "       [ 0.0038014 ],\n",
       "       [ 0.79525089]], dtype=float32)"
      ]
     },
     "execution_count": 26,
     "metadata": {},
     "output_type": "execute_result"
    }
   ],
   "source": [
    "model.predict(x_test)"
   ]
  },
  {
   "cell_type": "markdown",
   "metadata": {},
   "source": [
    "As you can see, the network is very confident for some samples (0.99 or more, or 0.01 or less) but less confident for others (0.6, 0.4). \n"
   ]
  },
  {
   "cell_type": "markdown",
   "metadata": {},
   "source": [
    "## Further experiments\n",
    "\n",
    "\n",
    "* We were using 2 hidden layers. Try to use 1 or 3 hidden layers and see how it affects validation and test accuracy.\n",
    "* Try to use layers with more hidden units or less hidden units: 32 units, 64 units...\n",
    "* Try to use the `mse` loss function instead of `binary_crossentropy`.\n",
    "* Try to use the `tanh` activation (an activation that was popular in the early days of neural networks) instead of `relu`.\n",
    "\n",
    "These experiments will help convince you that the architecture choices we have made are all fairly reasonable, although they can still be \n",
    "improved!"
   ]
  },
  {
   "cell_type": "markdown",
   "metadata": {},
   "source": [
    "## Conclusions\n",
    "\n",
    "\n",
    "Here's what you should take away from this example:\n",
    "\n",
    "* There's usually quite a bit of preprocessing you need to do on your raw data in order to be able to feed it -- as tensors -- into a neural \n",
    "network. In the case of sequences of words, they can be encoded as binary vectors -- but there are other encoding options too.\n",
    "* Stacks of `Dense` layers with `relu` activations can solve a wide range of problems (including sentiment classification), and you will \n",
    "likely use them frequently.\n",
    "* In a binary classification problem (two output classes), your network should end with a `Dense` layer with 1 unit and a `sigmoid` activation, \n",
    "i.e. the output of your network should be a scalar between 0 and 1, encoding a probability.\n",
    "* With such a scalar sigmoid output, on a binary classification problem, the loss function you should use is `binary_crossentropy`.\n",
    "* The `rmsprop` optimizer is generally a good enough choice of optimizer, whatever your problem. That's one less thing for you to worry \n",
    "about.\n",
    "* As they get better on their training data, neural networks eventually start _overfitting_ and end up obtaining increasingly worse results on data \n",
    "never-seen-before. Make sure to always monitor performance on data that is outside of the training set.\n"
   ]
  },
  {
   "cell_type": "code",
   "execution_count": null,
   "metadata": {
    "collapsed": true
   },
   "outputs": [],
   "source": []
  }
 ],
 "metadata": {
  "kernelspec": {
   "display_name": "Python 3",
   "language": "python",
   "name": "python3"
  },
  "language_info": {
   "codemirror_mode": {
    "name": "ipython",
    "version": 3
   },
   "file_extension": ".py",
   "mimetype": "text/x-python",
   "name": "python",
   "nbconvert_exporter": "python",
   "pygments_lexer": "ipython3",
   "version": "3.5.4"
  }
 },
 "nbformat": 4,
 "nbformat_minor": 2
}
